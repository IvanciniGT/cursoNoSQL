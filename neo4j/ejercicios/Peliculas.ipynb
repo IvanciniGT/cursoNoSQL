{
 "cells": [
  {
   "cell_type": "code",
   "execution_count": 2,
   "id": "b3a26ef0-8a02-4da2-b01b-e44a684e34ec",
   "metadata": {},
   "outputs": [],
   "source": [
    "# Abrir una conexión con neo4j\n",
    "\n",
    "from neo4j import GraphDatabase\n",
    "\n",
    "DIRECCION = \"neo4j://54.75.63.152:7687\"\n",
    "AUTENTICACION = (\"neo4j\", \"password\")\n",
    "\n",
    "conexion = GraphDatabase.driver( DIRECCION , auth=AUTENTICACION )"
   ]
  },
  {
   "cell_type": "code",
   "execution_count": 3,
   "id": "0282d7bf-8e48-4c79-8369-3bec8fd39243",
   "metadata": {},
   "outputs": [],
   "source": [
    "def ejecutar(QUERY, PARAMETROS= None):\n",
    "    session = None\n",
    "    RESPUESTA = None\n",
    "    try:\n",
    "        session = conexion.session()\n",
    "        RESPUESTA = list(session.run( QUERY, PARAMETROS ))\n",
    "    except Exception as e:\n",
    "        print(\"Error al ejecutar query\", e)\n",
    "    finally:\n",
    "        session.close()\n",
    "    return RESPUESTA"
   ]
  },
  {
   "cell_type": "code",
   "execution_count": 4,
   "id": "86bbbd75-25f0-4809-8aed-1f0f03291a43",
   "metadata": {},
   "outputs": [
    {
     "data": {
      "text/plain": [
       "[]"
      ]
     },
     "execution_count": 4,
     "metadata": {},
     "output_type": "execute_result"
    }
   ],
   "source": [
    "ejecutar( 'CREATE (:Persona { nombre: \"Ivan\" } )' )"
   ]
  },
  {
   "cell_type": "code",
   "execution_count": 7,
   "id": "202395e8-3f19-45f7-b3d7-733db3113276",
   "metadata": {},
   "outputs": [],
   "source": [
    "resultado = ejecutar( 'MATCH (ivan:Persona { nombre: \"Ivan\" } ) RETURN ivan' )"
   ]
  },
  {
   "cell_type": "code",
   "execution_count": 8,
   "id": "3349e65c-572a-441c-ba99-58114de69f1d",
   "metadata": {},
   "outputs": [
    {
     "data": {
      "text/plain": [
       "<Record ivan=<Node element_id='4:598ae28c-8332-445e-83c8-afc0ece5a1e1:0' labels=frozenset({'Persona'}) properties={'nombre': 'Ivan'}>>"
      ]
     },
     "execution_count": 8,
     "metadata": {},
     "output_type": "execute_result"
    }
   ],
   "source": [
    "ivan = resultado[0]\n",
    "ivan"
   ]
  },
  {
   "cell_type": "code",
   "execution_count": 14,
   "id": "382bb4d1-4e21-4f6c-a0cc-6f7959625330",
   "metadata": {},
   "outputs": [
    {
     "data": {
      "text/html": [
       "<div>\n",
       "<style scoped>\n",
       "    .dataframe tbody tr th:only-of-type {\n",
       "        vertical-align: middle;\n",
       "    }\n",
       "\n",
       "    .dataframe tbody tr th {\n",
       "        vertical-align: top;\n",
       "    }\n",
       "\n",
       "    .dataframe thead th {\n",
       "        text-align: right;\n",
       "    }\n",
       "</style>\n",
       "<table border=\"1\" class=\"dataframe\">\n",
       "  <thead>\n",
       "    <tr style=\"text-align: right;\">\n",
       "      <th></th>\n",
       "      <th>title</th>\n",
       "      <th>released</th>\n",
       "      <th>tagline</th>\n",
       "    </tr>\n",
       "  </thead>\n",
       "  <tbody>\n",
       "    <tr>\n",
       "      <th>0</th>\n",
       "      <td>The Matrix</td>\n",
       "      <td>1999</td>\n",
       "      <td>Welcome to the Real World</td>\n",
       "    </tr>\n",
       "    <tr>\n",
       "      <th>1</th>\n",
       "      <td>Something's Gotta Give</td>\n",
       "      <td>1975</td>\n",
       "      <td>NaN</td>\n",
       "    </tr>\n",
       "  </tbody>\n",
       "</table>\n",
       "</div>"
      ],
      "text/plain": [
       "                    title  released                    tagline\n",
       "0              The Matrix      1999  Welcome to the Real World\n",
       "1  Something's Gotta Give      1975                        NaN"
      ]
     },
     "execution_count": 14,
     "metadata": {},
     "output_type": "execute_result"
    }
   ],
   "source": [
    "import pandas as pd\n",
    "import requests\n",
    "import io \n",
    "\n",
    "peliculas_csv = requests.get(\"https://data.neo4j.com/intro/movies/movies.csv\").content.decode(\"utf-8\")\n",
    "\n",
    "peliculas = pd.read_csv(io.StringIO(peliculas_csv)) # Nos simula que tenemos un fichero con ese contenido\n",
    "peliculas.head(2)"
   ]
  },
  {
   "cell_type": "code",
   "execution_count": 16,
   "id": "79071b67-38f5-444e-9e46-10fd3d44ccf4",
   "metadata": {},
   "outputs": [
    {
     "data": {
      "text/plain": [
       "[{'title': 'The Matrix',\n",
       "  'released': 1999,\n",
       "  'tagline': 'Welcome to the Real World'},\n",
       " {'title': \"Something's Gotta Give\", 'released': 1975, 'tagline': nan}]"
      ]
     },
     "execution_count": 16,
     "metadata": {},
     "output_type": "execute_result"
    }
   ],
   "source": [
    "peliculas.head(2).to_dict(\"records\")"
   ]
  },
  {
   "cell_type": "code",
   "execution_count": 17,
   "id": "ba495c92-2f78-4133-9dbe-b0d123e3652f",
   "metadata": {},
   "outputs": [],
   "source": [
    "# UNWIND itera por cada elemento de la lista. Sería el equivalente a un for_each\n",
    "query_insercion_peliculas = '''\n",
    "                            UNWIND $filas AS fila\n",
    "                            CREATE (pelicula:Pelicula {titulo: fila.title , fecha: fila.released , eslogan: fila.tagline})\n",
    "                            RETURN count(pelicula) as total\n",
    "                            '''\n",
    "parametros = { \"filas\": peliculas.to_dict(\"records\") }\n",
    "resultado = ejecutar( query_insercion_peliculas , parametros ) "
   ]
  },
  {
   "cell_type": "code",
   "execution_count": 18,
   "id": "6d2b09e7-4aba-4107-b051-63b08a0f61d2",
   "metadata": {},
   "outputs": [
    {
     "data": {
      "text/plain": [
       "[<Record total=38>]"
      ]
     },
     "execution_count": 18,
     "metadata": {},
     "output_type": "execute_result"
    }
   ],
   "source": [
    "resultado"
   ]
  },
  {
   "cell_type": "code",
   "execution_count": 19,
   "id": "d9590b6d-e7b0-4b28-b26a-1555cbf59d1c",
   "metadata": {},
   "outputs": [
    {
     "data": {
      "text/html": [
       "<div>\n",
       "<style scoped>\n",
       "    .dataframe tbody tr th:only-of-type {\n",
       "        vertical-align: middle;\n",
       "    }\n",
       "\n",
       "    .dataframe tbody tr th {\n",
       "        vertical-align: top;\n",
       "    }\n",
       "\n",
       "    .dataframe thead th {\n",
       "        text-align: right;\n",
       "    }\n",
       "</style>\n",
       "<table border=\"1\" class=\"dataframe\">\n",
       "  <thead>\n",
       "    <tr style=\"text-align: right;\">\n",
       "      <th></th>\n",
       "      <th>name</th>\n",
       "      <th>born</th>\n",
       "    </tr>\n",
       "  </thead>\n",
       "  <tbody>\n",
       "    <tr>\n",
       "      <th>0</th>\n",
       "      <td>Michael Sheen</td>\n",
       "      <td>1969.0</td>\n",
       "    </tr>\n",
       "    <tr>\n",
       "      <th>1</th>\n",
       "      <td>Jack Nicholson</td>\n",
       "      <td>1937.0</td>\n",
       "    </tr>\n",
       "  </tbody>\n",
       "</table>\n",
       "</div>"
      ],
      "text/plain": [
       "             name    born\n",
       "0   Michael Sheen  1969.0\n",
       "1  Jack Nicholson  1937.0"
      ]
     },
     "execution_count": 19,
     "metadata": {},
     "output_type": "execute_result"
    }
   ],
   "source": [
    "personas_csv = requests.get(\"https://data.neo4j.com/intro/movies/people.csv\").content.decode(\"utf-8\")\n",
    "personas = pd.read_csv(io.StringIO(personas_csv)) # Nos simula que tenemos un fichero con ese contenido\n",
    "personas.head(2)"
   ]
  },
  {
   "cell_type": "code",
   "execution_count": 22,
   "id": "5c482d8f-0c93-47e6-8e78-2eda2f1b86fc",
   "metadata": {},
   "outputs": [
    {
     "data": {
      "text/plain": [
       "[<Record total=102>]"
      ]
     },
     "execution_count": 22,
     "metadata": {},
     "output_type": "execute_result"
    }
   ],
   "source": [
    "query_insercion_personas = '''\n",
    "                            UNWIND $filas AS fila\n",
    "                            CREATE (persona:Persona {nombre: fila.name , nacimiento: fila.born})\n",
    "                            RETURN count(persona) as total\n",
    "                            '''\n",
    "parametros = { \"filas\": personas.to_dict(\"records\") }\n",
    "resultado = ejecutar( query_insercion_personas , parametros ) \n",
    "resultado"
   ]
  },
  {
   "cell_type": "code",
   "execution_count": 21,
   "id": "9e66d162-f018-4699-af9c-5b7a88bbc043",
   "metadata": {},
   "outputs": [
    {
     "data": {
      "text/html": [
       "<div>\n",
       "<style scoped>\n",
       "    .dataframe tbody tr th:only-of-type {\n",
       "        vertical-align: middle;\n",
       "    }\n",
       "\n",
       "    .dataframe tbody tr th {\n",
       "        vertical-align: top;\n",
       "    }\n",
       "\n",
       "    .dataframe thead th {\n",
       "        text-align: right;\n",
       "    }\n",
       "</style>\n",
       "<table border=\"1\" class=\"dataframe\">\n",
       "  <thead>\n",
       "    <tr style=\"text-align: right;\">\n",
       "      <th></th>\n",
       "      <th>person</th>\n",
       "      <th>movie</th>\n",
       "    </tr>\n",
       "  </thead>\n",
       "  <tbody>\n",
       "    <tr>\n",
       "      <th>0</th>\n",
       "      <td>Lilly Wachowski</td>\n",
       "      <td>The Matrix</td>\n",
       "    </tr>\n",
       "    <tr>\n",
       "      <th>1</th>\n",
       "      <td>Lana Wachowski</td>\n",
       "      <td>The Matrix</td>\n",
       "    </tr>\n",
       "  </tbody>\n",
       "</table>\n",
       "</div>"
      ],
      "text/plain": [
       "            person       movie\n",
       "0  Lilly Wachowski  The Matrix\n",
       "1   Lana Wachowski  The Matrix"
      ]
     },
     "execution_count": 21,
     "metadata": {},
     "output_type": "execute_result"
    }
   ],
   "source": [
    "directores_csv = requests.get(\"https://data.neo4j.com/intro/movies/directors.csv\").content.decode(\"utf-8\")\n",
    "directores = pd.read_csv(io.StringIO(directores_csv)) # Nos simula que tenemos un fichero con ese contenido\n",
    "directores.head(2)"
   ]
  },
  {
   "cell_type": "code",
   "execution_count": 23,
   "id": "5e27f838-4a08-48ca-a96d-597fcf4585f3",
   "metadata": {},
   "outputs": [
    {
     "data": {
      "text/plain": [
       "[<Record total=6>]"
      ]
     },
     "execution_count": 23,
     "metadata": {},
     "output_type": "execute_result"
    }
   ],
   "source": [
    "query_insercion_directores = '''\n",
    "                            UNWIND $filas AS fila\n",
    "                            MATCH (persona:Persona {nombre: fila.person})\n",
    "                            MATCH (pelicula:Pelicula {titulo: fila.movie})\n",
    "                            MERGE (persona)-[dirigio:Dirigio]->(pelicula)\n",
    "                            RETURN count(dirigio) as total\n",
    "                            '''\n",
    "parametros = { \"filas\": directores.to_dict(\"records\") }\n",
    "resultado = ejecutar( query_insercion_directores , parametros ) \n",
    "resultado"
   ]
  },
  {
   "cell_type": "code",
   "execution_count": 24,
   "id": "ed34c290-f98d-4157-a10a-1585f38e0a23",
   "metadata": {},
   "outputs": [
    {
     "data": {
      "text/html": [
       "<div>\n",
       "<style scoped>\n",
       "    .dataframe tbody tr th:only-of-type {\n",
       "        vertical-align: middle;\n",
       "    }\n",
       "\n",
       "    .dataframe tbody tr th {\n",
       "        vertical-align: top;\n",
       "    }\n",
       "\n",
       "    .dataframe thead th {\n",
       "        text-align: right;\n",
       "    }\n",
       "</style>\n",
       "<table border=\"1\" class=\"dataframe\">\n",
       "  <thead>\n",
       "    <tr style=\"text-align: right;\">\n",
       "      <th></th>\n",
       "      <th>movie</th>\n",
       "      <th>roles</th>\n",
       "      <th>person</th>\n",
       "    </tr>\n",
       "  </thead>\n",
       "  <tbody>\n",
       "    <tr>\n",
       "      <th>0</th>\n",
       "      <td>Something's Gotta Give</td>\n",
       "      <td>Julian Mercer</td>\n",
       "      <td>Keanu Reeves</td>\n",
       "    </tr>\n",
       "    <tr>\n",
       "      <th>1</th>\n",
       "      <td>Johnny Mnemonic</td>\n",
       "      <td>Johnny Mnemonic</td>\n",
       "      <td>Keanu Reeves</td>\n",
       "    </tr>\n",
       "  </tbody>\n",
       "</table>\n",
       "</div>"
      ],
      "text/plain": [
       "                    movie            roles        person\n",
       "0  Something's Gotta Give    Julian Mercer  Keanu Reeves\n",
       "1         Johnny Mnemonic  Johnny Mnemonic  Keanu Reeves"
      ]
     },
     "execution_count": 24,
     "metadata": {},
     "output_type": "execute_result"
    }
   ],
   "source": [
    "# ON CREATE SET\n",
    "actores_csv = requests.get(\"https://data.neo4j.com/intro/movies/actors.csv\").content.decode(\"utf-8\")\n",
    "actores = pd.read_csv(io.StringIO(actores_csv)) # Nos simula que tenemos un fichero con ese contenido\n",
    "actores.head(2)"
   ]
  },
  {
   "cell_type": "code",
   "execution_count": 25,
   "id": "459adac5-0d81-4ec7-a91b-346b346bf046",
   "metadata": {},
   "outputs": [
    {
     "data": {
      "text/plain": [
       "[<Record total=172>]"
      ]
     },
     "execution_count": 25,
     "metadata": {},
     "output_type": "execute_result"
    }
   ],
   "source": [
    "query_insercion_actores = '''\n",
    "                            UNWIND $filas AS fila\n",
    "                            MATCH (persona:Persona {nombre: fila.person})\n",
    "                            MATCH (pelicula:Pelicula {titulo: fila.movie})\n",
    "                            MERGE (persona)-[actuo:Actuo]->(pelicula)\n",
    "                            ON CREATE SET actuo.papeles = split(fila.roles,\";\")\n",
    "                            RETURN count(actuo) as total\n",
    "                            '''\n",
    "parametros = { \"filas\": actores.to_dict(\"records\") }\n",
    "resultado = ejecutar( query_insercion_actores , parametros ) \n",
    "resultado"
   ]
  },
  {
   "cell_type": "code",
   "execution_count": 39,
   "id": "5c1c00b0-76c3-486b-ab1f-cd4873f66041",
   "metadata": {},
   "outputs": [],
   "source": [
    "argumentos = {\"nombres\": [\"Keanu Reeves\",\"Tom Cruise\"]}\n",
    "resultado=ejecutar(\"\"\"\n",
    "                    UNWIND $nombres AS nombre\n",
    "                    MATCH (Persona{nombre: nombre})-[relacion]->(Pelicula)\n",
    "                    <-[Actuo]-(interesado:Persona)\n",
    "                    RETURN interesado.nombre, interesado.nacimiento\n",
    "                    \"\"\" , argumentos)\n",
    "datos=pd.DataFrame(resultado)\n",
    "datos.columns=[\"Nombre\", \"Año\"]"
   ]
  },
  {
   "cell_type": "code",
   "execution_count": 40,
   "id": "1a05d2a8-fe18-4193-ab43-08fd8ad72723",
   "metadata": {},
   "outputs": [
    {
     "data": {
      "text/html": [
       "<div>\n",
       "<style scoped>\n",
       "    .dataframe tbody tr th:only-of-type {\n",
       "        vertical-align: middle;\n",
       "    }\n",
       "\n",
       "    .dataframe tbody tr th {\n",
       "        vertical-align: top;\n",
       "    }\n",
       "\n",
       "    .dataframe thead th {\n",
       "        text-align: right;\n",
       "    }\n",
       "</style>\n",
       "<table border=\"1\" class=\"dataframe\">\n",
       "  <thead>\n",
       "    <tr style=\"text-align: right;\">\n",
       "      <th></th>\n",
       "      <th>Nombre</th>\n",
       "      <th>Año</th>\n",
       "    </tr>\n",
       "  </thead>\n",
       "  <tbody>\n",
       "    <tr>\n",
       "      <th>0</th>\n",
       "      <td>Emil Eifrem</td>\n",
       "      <td>1978.0</td>\n",
       "    </tr>\n",
       "    <tr>\n",
       "      <th>1</th>\n",
       "      <td>Hugo Weaving</td>\n",
       "      <td>1960.0</td>\n",
       "    </tr>\n",
       "    <tr>\n",
       "      <th>2</th>\n",
       "      <td>Laurence Fishburne</td>\n",
       "      <td>1961.0</td>\n",
       "    </tr>\n",
       "    <tr>\n",
       "      <th>3</th>\n",
       "      <td>Carrie-Anne Moss</td>\n",
       "      <td>1967.0</td>\n",
       "    </tr>\n",
       "    <tr>\n",
       "      <th>4</th>\n",
       "      <td>Hugo Weaving</td>\n",
       "      <td>1960.0</td>\n",
       "    </tr>\n",
       "    <tr>\n",
       "      <th>5</th>\n",
       "      <td>Laurence Fishburne</td>\n",
       "      <td>1961.0</td>\n",
       "    </tr>\n",
       "    <tr>\n",
       "      <th>6</th>\n",
       "      <td>Carrie-Anne Moss</td>\n",
       "      <td>1967.0</td>\n",
       "    </tr>\n",
       "    <tr>\n",
       "      <th>7</th>\n",
       "      <td>Hugo Weaving</td>\n",
       "      <td>1960.0</td>\n",
       "    </tr>\n",
       "    <tr>\n",
       "      <th>8</th>\n",
       "      <td>Laurence Fishburne</td>\n",
       "      <td>1961.0</td>\n",
       "    </tr>\n",
       "    <tr>\n",
       "      <th>9</th>\n",
       "      <td>Carrie-Anne Moss</td>\n",
       "      <td>1967.0</td>\n",
       "    </tr>\n",
       "    <tr>\n",
       "      <th>10</th>\n",
       "      <td>Al Pacino</td>\n",
       "      <td>1940.0</td>\n",
       "    </tr>\n",
       "    <tr>\n",
       "      <th>11</th>\n",
       "      <td>Charlize Theron</td>\n",
       "      <td>1975.0</td>\n",
       "    </tr>\n",
       "    <tr>\n",
       "      <th>12</th>\n",
       "      <td>Brooke Langton</td>\n",
       "      <td>1970.0</td>\n",
       "    </tr>\n",
       "    <tr>\n",
       "      <th>13</th>\n",
       "      <td>Gene Hackman</td>\n",
       "      <td>1930.0</td>\n",
       "    </tr>\n",
       "    <tr>\n",
       "      <th>14</th>\n",
       "      <td>Orlando Jones</td>\n",
       "      <td>1968.0</td>\n",
       "    </tr>\n",
       "    <tr>\n",
       "      <th>15</th>\n",
       "      <td>Dina Meyer</td>\n",
       "      <td>1968.0</td>\n",
       "    </tr>\n",
       "    <tr>\n",
       "      <th>16</th>\n",
       "      <td>Ice-T</td>\n",
       "      <td>1958.0</td>\n",
       "    </tr>\n",
       "    <tr>\n",
       "      <th>17</th>\n",
       "      <td>Takeshi Kitano</td>\n",
       "      <td>1947.0</td>\n",
       "    </tr>\n",
       "    <tr>\n",
       "      <th>18</th>\n",
       "      <td>Diane Keaton</td>\n",
       "      <td>1946.0</td>\n",
       "    </tr>\n",
       "    <tr>\n",
       "      <th>19</th>\n",
       "      <td>Jack Nicholson</td>\n",
       "      <td>1937.0</td>\n",
       "    </tr>\n",
       "    <tr>\n",
       "      <th>20</th>\n",
       "      <td>Aaron Sorkin</td>\n",
       "      <td>1961.0</td>\n",
       "    </tr>\n",
       "    <tr>\n",
       "      <th>21</th>\n",
       "      <td>Jack Nicholson</td>\n",
       "      <td>1937.0</td>\n",
       "    </tr>\n",
       "    <tr>\n",
       "      <th>22</th>\n",
       "      <td>Kevin Pollak</td>\n",
       "      <td>1957.0</td>\n",
       "    </tr>\n",
       "    <tr>\n",
       "      <th>23</th>\n",
       "      <td>Noah Wyle</td>\n",
       "      <td>1971.0</td>\n",
       "    </tr>\n",
       "    <tr>\n",
       "      <th>24</th>\n",
       "      <td>J.T. Walsh</td>\n",
       "      <td>1943.0</td>\n",
       "    </tr>\n",
       "    <tr>\n",
       "      <th>25</th>\n",
       "      <td>Cuba Gooding Jr.</td>\n",
       "      <td>1968.0</td>\n",
       "    </tr>\n",
       "    <tr>\n",
       "      <th>26</th>\n",
       "      <td>James Marshall</td>\n",
       "      <td>1967.0</td>\n",
       "    </tr>\n",
       "    <tr>\n",
       "      <th>27</th>\n",
       "      <td>Christopher Guest</td>\n",
       "      <td>1948.0</td>\n",
       "    </tr>\n",
       "    <tr>\n",
       "      <th>28</th>\n",
       "      <td>Demi Moore</td>\n",
       "      <td>1962.0</td>\n",
       "    </tr>\n",
       "    <tr>\n",
       "      <th>29</th>\n",
       "      <td>Kevin Bacon</td>\n",
       "      <td>1958.0</td>\n",
       "    </tr>\n",
       "    <tr>\n",
       "      <th>30</th>\n",
       "      <td>Kiefer Sutherland</td>\n",
       "      <td>1966.0</td>\n",
       "    </tr>\n",
       "    <tr>\n",
       "      <th>31</th>\n",
       "      <td>Val Kilmer</td>\n",
       "      <td>1959.0</td>\n",
       "    </tr>\n",
       "    <tr>\n",
       "      <th>32</th>\n",
       "      <td>Kelly McGillis</td>\n",
       "      <td>1957.0</td>\n",
       "    </tr>\n",
       "    <tr>\n",
       "      <th>33</th>\n",
       "      <td>Meg Ryan</td>\n",
       "      <td>1961.0</td>\n",
       "    </tr>\n",
       "    <tr>\n",
       "      <th>34</th>\n",
       "      <td>Tom Skerritt</td>\n",
       "      <td>1933.0</td>\n",
       "    </tr>\n",
       "    <tr>\n",
       "      <th>35</th>\n",
       "      <td>Anthony Edwards</td>\n",
       "      <td>1962.0</td>\n",
       "    </tr>\n",
       "    <tr>\n",
       "      <th>36</th>\n",
       "      <td>Regina King</td>\n",
       "      <td>1971.0</td>\n",
       "    </tr>\n",
       "    <tr>\n",
       "      <th>37</th>\n",
       "      <td>Bonnie Hunt</td>\n",
       "      <td>1961.0</td>\n",
       "    </tr>\n",
       "    <tr>\n",
       "      <th>38</th>\n",
       "      <td>Renee Zellweger</td>\n",
       "      <td>1969.0</td>\n",
       "    </tr>\n",
       "    <tr>\n",
       "      <th>39</th>\n",
       "      <td>Jay Mohr</td>\n",
       "      <td>1970.0</td>\n",
       "    </tr>\n",
       "    <tr>\n",
       "      <th>40</th>\n",
       "      <td>Cuba Gooding Jr.</td>\n",
       "      <td>1968.0</td>\n",
       "    </tr>\n",
       "    <tr>\n",
       "      <th>41</th>\n",
       "      <td>Jerry O'Connell</td>\n",
       "      <td>1974.0</td>\n",
       "    </tr>\n",
       "    <tr>\n",
       "      <th>42</th>\n",
       "      <td>Jonathan Lipnicki</td>\n",
       "      <td>1990.0</td>\n",
       "    </tr>\n",
       "    <tr>\n",
       "      <th>43</th>\n",
       "      <td>Kelly Preston</td>\n",
       "      <td>1962.0</td>\n",
       "    </tr>\n",
       "  </tbody>\n",
       "</table>\n",
       "</div>"
      ],
      "text/plain": [
       "                Nombre     Año\n",
       "0          Emil Eifrem  1978.0\n",
       "1         Hugo Weaving  1960.0\n",
       "2   Laurence Fishburne  1961.0\n",
       "3     Carrie-Anne Moss  1967.0\n",
       "4         Hugo Weaving  1960.0\n",
       "5   Laurence Fishburne  1961.0\n",
       "6     Carrie-Anne Moss  1967.0\n",
       "7         Hugo Weaving  1960.0\n",
       "8   Laurence Fishburne  1961.0\n",
       "9     Carrie-Anne Moss  1967.0\n",
       "10           Al Pacino  1940.0\n",
       "11     Charlize Theron  1975.0\n",
       "12      Brooke Langton  1970.0\n",
       "13        Gene Hackman  1930.0\n",
       "14       Orlando Jones  1968.0\n",
       "15          Dina Meyer  1968.0\n",
       "16               Ice-T  1958.0\n",
       "17      Takeshi Kitano  1947.0\n",
       "18        Diane Keaton  1946.0\n",
       "19      Jack Nicholson  1937.0\n",
       "20        Aaron Sorkin  1961.0\n",
       "21      Jack Nicholson  1937.0\n",
       "22        Kevin Pollak  1957.0\n",
       "23           Noah Wyle  1971.0\n",
       "24          J.T. Walsh  1943.0\n",
       "25    Cuba Gooding Jr.  1968.0\n",
       "26      James Marshall  1967.0\n",
       "27   Christopher Guest  1948.0\n",
       "28          Demi Moore  1962.0\n",
       "29         Kevin Bacon  1958.0\n",
       "30   Kiefer Sutherland  1966.0\n",
       "31          Val Kilmer  1959.0\n",
       "32      Kelly McGillis  1957.0\n",
       "33            Meg Ryan  1961.0\n",
       "34        Tom Skerritt  1933.0\n",
       "35     Anthony Edwards  1962.0\n",
       "36         Regina King  1971.0\n",
       "37         Bonnie Hunt  1961.0\n",
       "38     Renee Zellweger  1969.0\n",
       "39            Jay Mohr  1970.0\n",
       "40    Cuba Gooding Jr.  1968.0\n",
       "41     Jerry O'Connell  1974.0\n",
       "42   Jonathan Lipnicki  1990.0\n",
       "43       Kelly Preston  1962.0"
      ]
     },
     "execution_count": 40,
     "metadata": {},
     "output_type": "execute_result"
    }
   ],
   "source": [
    "datos"
   ]
  },
  {
   "cell_type": "raw",
   "id": "3d9cd055-7b51-44d8-ab86-47552658f031",
   "metadata": {},
   "source": [
    "\n",
    "yo-->pelicula1<--persona1-->pelicula2<-- persona2\n",
    "\n",
    "# Persona3 que no sea Persona1\n",
    "\n",
    "Conocer a los amigos de mis amigos!\n",
    "\n",
    "MATCH \n",
    "(yo:Persona{nombre:\"Keanu Reeves\"}) -[:Actuo]-> (:Pelicula) <-[:Actuo]- (amigo_mio:Persona) -[:Actuo]-> (:Pelicula) <-[:Actuo]- (amigo_del_amigo:Persona)\n",
    "WHERE NOT (yo) -[:Actuo]-> (:Pelicula) <-[:Actuo]- (amigo_del_amigo)\n",
    "AND yo <> amigo_del_amigo\n",
    "RETURN DISTINCT amigo_del_amigo"
   ]
  },
  {
   "cell_type": "raw",
   "id": "9d305114-f3ab-437b-8e74-612738bebb62",
   "metadata": {},
   "source": [
    "Yo soy \"tom cruise\" y quiero conocer a \"Keanu Reeves\"\n",
    "A quién llamo?\n",
    "Quizás no tengo a nadie que conozca a \"Keanu Reeves\"\n",
    "En cuyo caso me interesa llamar a la persona que tenga un amigo que conozca a Keanu Reeves...\n",
    "Pero quizás tampoco existe.\n",
    "\n",
    "El camino más corto entre do nodos\n",
    "\n",
    "MATCH ruta = shortestPath( (:Persona{nombre: \"Val Kilmer\"}) -[*1..15]- (:Persona{nombre: \"Susan Sarandon\"}))\n",
    "RETURN ruta"
   ]
  }
 ],
 "metadata": {
  "kernelspec": {
   "display_name": "Python 3 (ipykernel)",
   "language": "python",
   "name": "python3"
  },
  "language_info": {
   "codemirror_mode": {
    "name": "ipython",
    "version": 3
   },
   "file_extension": ".py",
   "mimetype": "text/x-python",
   "name": "python",
   "nbconvert_exporter": "python",
   "pygments_lexer": "ipython3",
   "version": "3.10.8"
  }
 },
 "nbformat": 4,
 "nbformat_minor": 5
}
